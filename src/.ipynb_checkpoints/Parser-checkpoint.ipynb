{
 "cells": [
  {
   "cell_type": "code",
   "execution_count": 2,
   "id": "dff5c758-6762-40fb-9689-8a515343b303",
   "metadata": {},
   "outputs": [],
   "source": [
    "import numpy as np\n",
    "def parse_szymczak_classes(raw_text):\n",
    "    raw_szymczak_classes = list(filter(lambda raw_szymczak_class: len(raw_szymczak_class) != 0, raw_text.split('-----\\\\n')))\n",
    "\n",
    "    szymczak_classes = list(parse_szymczak_class(raw_szymczak_class) for raw_szymczak_class in raw_szymczak_classes)\n",
    "    return szymczak_classes\n",
    "\n",
    "def parse_szymczak_class(raw_szymczak_class):\n",
    "        raw_szymczak_class = list(filter(lambda raw_szymczak_class_fixed_obj: len(raw_szymczak_class_fixed_obj) != 0, raw_szymczak_class.split('-\\\\n')))\n",
    "        szymczak_class = {}\n",
    "        for raw_szymczak_class_fixed_object in raw_szymczak_class:\n",
    "            object, endomorphisms = parse_szymczak_class_fixed_object(raw_szymczak_class_fixed_object)\n",
    "            szymczak_class[object] = endomorphisms\n",
    "        return szymczak_class\n",
    "\n",
    "def parse_szymczak_class_fixed_object(raw_szymczak_class_fixed_object):\n",
    "    raw_object, raw_endomorphisms = raw_szymczak_class_fixed_object.split(':\\\\n')\n",
    "    object = parse_object(raw_object)\n",
    "    object_length = len(object[1])\n",
    "    endomorphisms = parse_endomorphisms(raw_endomorphisms, object_length)\n",
    "    return object, endomorphisms\n",
    "\n",
    "def parse_object(raw_object):\n",
    "    raw_object = list(filter(lambda torsion_coeff: len(torsion_coeff) != 0, raw_object.split(' x ')))\n",
    "    raw_object = tuple([int(torsion_coeff[1:]) for torsion_coeff in raw_object])\n",
    "\n",
    "    elements = parse_elements(raw_object)\n",
    "    object = raw_object, elements\n",
    "    return object\n",
    "\n",
    "def parse_elements(raw_object):\n",
    "\n",
    "    def parse_elements_helper(raw_object, element, elements, index):\n",
    "        if index == len(raw_object):\n",
    "            elements.append(''.join(map(str, element)))\n",
    "        else:\n",
    "            for x in range(raw_object[index]):\n",
    "                element[index] = x\n",
    "                parse_elements_helper(raw_object, list(element), elements, index + 1)\n",
    "                \n",
    "    element = [0] * len(raw_object)\n",
    "    result = []\n",
    "    parse_elements_helper(raw_object, element, result, 0)\n",
    "    return tuple(result)\n",
    "\n",
    "\n",
    "def parse_endomorphisms(raw_endomorphisms, object_length):\n",
    "    raw_endomorphisms = list(filter(lambda raw_endomorphism: len(raw_endomorphism) != 0, raw_endomorphisms.split('\\\\n')))\n",
    "    return [parse_endomorphism(raw_endomorphism, object_length) for raw_endomorphism in raw_endomorphisms]\n",
    "\n",
    "def parse_endomorphism(raw_endomorphism, object_length):\n",
    "    raw_endomorphism = [int(entry) for entry in raw_endomorphism]\n",
    "    if len(raw_endomorphism) != object_length * object_length:\n",
    "         raise RuntimeError(\"this wasn't a matrix of the proper size!\")\n",
    "    else:\n",
    "        endomorphism = np.array(raw_endomorphism).reshape(object_length, object_length)\n",
    "        return endomorphism\n"
   ]
  },
  {
   "cell_type": "code",
   "execution_count": 3,
   "id": "400ed260-ad6a-4377-80d8-78d8c1dcd32b",
   "metadata": {},
   "outputs": [
    {
     "ename": "FileNotFoundError",
     "evalue": "[Errno 2] No such file or directory: 'out'",
     "output_type": "error",
     "traceback": [
      "\u001b[0;31m---------------------------------------------------------------------------\u001b[0m",
      "\u001b[0;31mFileNotFoundError\u001b[0m                         Traceback (most recent call last)",
      "Cell \u001b[0;32mIn[3], line 2\u001b[0m\n\u001b[1;32m      1\u001b[0m filepath \u001b[38;5;241m=\u001b[39m \u001b[38;5;124m\"\u001b[39m\u001b[38;5;124mout\u001b[39m\u001b[38;5;124m\"\u001b[39m\n\u001b[0;32m----> 2\u001b[0m file \u001b[38;5;241m=\u001b[39m \u001b[38;5;28;43mopen\u001b[39;49m\u001b[43m(\u001b[49m\u001b[43mfilepath\u001b[49m\u001b[43m,\u001b[49m\u001b[43m \u001b[49m\u001b[38;5;124;43m'\u001b[39;49m\u001b[38;5;124;43mr\u001b[39;49m\u001b[38;5;124;43m'\u001b[39;49m\u001b[43m)\u001b[49m\n\u001b[1;32m      3\u001b[0m raw_text \u001b[38;5;241m=\u001b[39m file\u001b[38;5;241m.\u001b[39mread()\n\u001b[1;32m      4\u001b[0m szymczak_classes \u001b[38;5;241m=\u001b[39m parse_szymczak_classes(raw_text)\n",
      "File \u001b[0;32m/opt/homebrew/lib/python3.11/site-packages/IPython/core/interactiveshell.py:284\u001b[0m, in \u001b[0;36m_modified_open\u001b[0;34m(file, *args, **kwargs)\u001b[0m\n\u001b[1;32m    277\u001b[0m \u001b[38;5;28;01mif\u001b[39;00m file \u001b[38;5;129;01min\u001b[39;00m {\u001b[38;5;241m0\u001b[39m, \u001b[38;5;241m1\u001b[39m, \u001b[38;5;241m2\u001b[39m}:\n\u001b[1;32m    278\u001b[0m     \u001b[38;5;28;01mraise\u001b[39;00m \u001b[38;5;167;01mValueError\u001b[39;00m(\n\u001b[1;32m    279\u001b[0m         \u001b[38;5;124mf\u001b[39m\u001b[38;5;124m\"\u001b[39m\u001b[38;5;124mIPython won\u001b[39m\u001b[38;5;124m'\u001b[39m\u001b[38;5;124mt let you open fd=\u001b[39m\u001b[38;5;132;01m{\u001b[39;00mfile\u001b[38;5;132;01m}\u001b[39;00m\u001b[38;5;124m by default \u001b[39m\u001b[38;5;124m\"\u001b[39m\n\u001b[1;32m    280\u001b[0m         \u001b[38;5;124m\"\u001b[39m\u001b[38;5;124mas it is likely to crash IPython. If you know what you are doing, \u001b[39m\u001b[38;5;124m\"\u001b[39m\n\u001b[1;32m    281\u001b[0m         \u001b[38;5;124m\"\u001b[39m\u001b[38;5;124myou can use builtins\u001b[39m\u001b[38;5;124m'\u001b[39m\u001b[38;5;124m open.\u001b[39m\u001b[38;5;124m\"\u001b[39m\n\u001b[1;32m    282\u001b[0m     )\n\u001b[0;32m--> 284\u001b[0m \u001b[38;5;28;01mreturn\u001b[39;00m \u001b[43mio_open\u001b[49m\u001b[43m(\u001b[49m\u001b[43mfile\u001b[49m\u001b[43m,\u001b[49m\u001b[43m \u001b[49m\u001b[38;5;241;43m*\u001b[39;49m\u001b[43margs\u001b[49m\u001b[43m,\u001b[49m\u001b[43m \u001b[49m\u001b[38;5;241;43m*\u001b[39;49m\u001b[38;5;241;43m*\u001b[39;49m\u001b[43mkwargs\u001b[49m\u001b[43m)\u001b[49m\n",
      "\u001b[0;31mFileNotFoundError\u001b[0m: [Errno 2] No such file or directory: 'out'"
     ]
    }
   ],
   "source": [
    "filepath = \"out\"\n",
    "file = open(filepath, 'r')\n",
    "raw_text = file.read()\n",
    "szymczak_classes = parse_szymczak_classes(raw_text)\n"
   ]
  },
  {
   "cell_type": "code",
   "execution_count": 4,
   "id": "3baf2416-0324-4e2c-b4ad-4c4dd2a01344",
   "metadata": {},
   "outputs": [
    {
     "ename": "NameError",
     "evalue": "name 'szymczak_classes' is not defined",
     "output_type": "error",
     "traceback": [
      "\u001b[0;31m---------------------------------------------------------------------------\u001b[0m",
      "\u001b[0;31mNameError\u001b[0m                                 Traceback (most recent call last)",
      "Cell \u001b[0;32mIn[4], line 1\u001b[0m\n\u001b[0;32m----> 1\u001b[0m endomorphism \u001b[38;5;241m=\u001b[39m \u001b[38;5;28mlist\u001b[39m(\u001b[43mszymczak_classes\u001b[49m[\u001b[38;5;241m0\u001b[39m]\u001b[38;5;241m.\u001b[39mvalues())[\u001b[38;5;241m1\u001b[39m][\u001b[38;5;241m2\u001b[39m]\n\u001b[1;32m      2\u001b[0m \u001b[38;5;28mprint\u001b[39m(endomorphism)\n\u001b[1;32m      3\u001b[0m \u001b[38;5;28mobject\u001b[39m \u001b[38;5;241m=\u001b[39m parse_object(\u001b[38;5;124m'\u001b[39m\u001b[38;5;124mZ3\u001b[39m\u001b[38;5;124m'\u001b[39m)\n",
      "\u001b[0;31mNameError\u001b[0m: name 'szymczak_classes' is not defined"
     ]
    }
   ],
   "source": [
    "endomorphism = list(szymczak_classes[0].values())[1][2]\n",
    "print(endomorphism)\n",
    "object = parse_object('Z3')\n",
    "print(object)\n",
    "\n",
    "import matplotlib.pyplot as plt\n",
    "import numpy as np\n",
    "\n",
    "def plot_endomorphism(object, endomorphism, color_):\n",
    "    fig, ax = plt.subplots(figsize=(8, 8))\n",
    "    n = len(object[1])\n",
    "    labels = object[1]\n",
    "\n",
    "    for i in range(n):\n",
    "        for j in range(n):\n",
    "            color = color_ if endomorphism[i][j] == 1 else 'white'\n",
    "            rect = plt.Rectangle((j, n-i-1), 1, 1, facecolor=color, edgecolor='black', linewidth=2)\n",
    "            ax.add_patch(rect)\n",
    "\n",
    "    ax.set_xticks(np.arange(0.5, n, 1))\n",
    "    ax.set_yticks(np.arange(0.5, n, 1))\n",
    "    ax.set_xticklabels(labels, fontsize=40)\n",
    "    ax.set_yticklabels(labels[::-1], fontsize=40)  # Reverse the labels for y-axis\n",
    "    ax.xaxis.tick_top()  # Move x-axis to the top\n",
    "    ax.tick_params(axis='both', which='both', length=0)  # Remove ticks\n",
    "\n",
    "    plt.gca().invert_yaxis()  # Invert y-axis to match labels\n",
    "    \n",
    "    # Set axis limits to ensure all rectangles are fully visible\n",
    "    ax.set_xlim(0, n)\n",
    "    ax.set_ylim(0, n)\n",
    "\n",
    "    return plt.gcf()\n",
    "\n",
    "# Example Usage\n",
    "figure = plot_endomorphism(object, endomorphism, 'purple')\n",
    "print(type(figure))\n"
   ]
  },
  {
   "cell_type": "code",
   "execution_count": 6,
   "id": "6dab13ef-95c2-4861-ab6c-830bdaa51bf7",
   "metadata": {},
   "outputs": [
    {
     "ename": "NameError",
     "evalue": "name 'szymczak_classes' is not defined",
     "output_type": "error",
     "traceback": [
      "\u001b[0;31m---------------------------------------------------------------------------\u001b[0m",
      "\u001b[0;31mNameError\u001b[0m                                 Traceback (most recent call last)",
      "Cell \u001b[0;32mIn[6], line 4\u001b[0m\n\u001b[1;32m      2\u001b[0m     plotted_endomorphisms \u001b[38;5;241m=\u001b[39m [plot_endomorphism(\u001b[38;5;28mobject\u001b[39m, endomorphism, color) \u001b[38;5;28;01mfor\u001b[39;00m endomorphisms \u001b[38;5;129;01min\u001b[39;00m endomorphisms]\n\u001b[1;32m      3\u001b[0m     \u001b[38;5;28;01mreturn\u001b[39;00m plotted_endomorphisms\n\u001b[0;32m----> 4\u001b[0m \u001b[38;5;28mobject\u001b[39m \u001b[38;5;241m=\u001b[39m \u001b[38;5;28mlist\u001b[39m(\u001b[43mszymczak_classes\u001b[49m[\u001b[38;5;241m0\u001b[39m]\u001b[38;5;241m.\u001b[39mkeys())[\u001b[38;5;241m1\u001b[39m]\n\u001b[1;32m      5\u001b[0m endomorphisms \u001b[38;5;241m=\u001b[39m szymczak_classes[\u001b[38;5;241m0\u001b[39m][\u001b[38;5;28mobject\u001b[39m]\n\u001b[1;32m      6\u001b[0m figures \u001b[38;5;241m=\u001b[39m plot_szymczak_class_fixed_object(\u001b[38;5;28mobject\u001b[39m, endomorphisms, \u001b[38;5;124m'\u001b[39m\u001b[38;5;124mpurple\u001b[39m\u001b[38;5;124m'\u001b[39m)\n",
      "\u001b[0;31mNameError\u001b[0m: name 'szymczak_classes' is not defined"
     ]
    }
   ],
   "source": [
    "def plot_szymczak_class_fixed_object(object, endomorphisms, color):\n",
    "    plotted_endomorphisms = [plot_endomorphism(object, endomorphism, color) for endomorphisms in endomorphisms]\n",
    "    return plotted_endomorphisms\n",
    "object = list(szymczak_classes[0].keys())[1]\n",
    "endomorphisms = szymczak_classes[0][object]\n",
    "figures = plot_szymczak_class_fixed_object(object, endomorphisms, 'purple')\n"
   ]
  },
  {
   "cell_type": "code",
   "execution_count": 7,
   "id": "c8815740-2469-46f0-bf17-7bbbc477ad55",
   "metadata": {},
   "outputs": [
    {
     "ename": "NameError",
     "evalue": "name 'figures' is not defined",
     "output_type": "error",
     "traceback": [
      "\u001b[0;31m---------------------------------------------------------------------------\u001b[0m",
      "\u001b[0;31mNameError\u001b[0m                                 Traceback (most recent call last)",
      "Cell \u001b[0;32mIn[7], line 15\u001b[0m\n\u001b[1;32m     12\u001b[0m     img \u001b[38;5;241m=\u001b[39m Image\u001b[38;5;241m.\u001b[39mopen(buf)\n\u001b[1;32m     13\u001b[0m     \u001b[38;5;28;01mreturn\u001b[39;00m img\n\u001b[0;32m---> 15\u001b[0m image1 \u001b[38;5;241m=\u001b[39m figure_to_image(\u001b[43mfigures\u001b[49m[\u001b[38;5;241m0\u001b[39m])\n\u001b[1;32m     16\u001b[0m image2 \u001b[38;5;241m=\u001b[39m figure_to_image(figures[\u001b[38;5;241m1\u001b[39m])\n\u001b[1;32m     17\u001b[0m image3 \u001b[38;5;241m=\u001b[39m figure_to_image(figures[\u001b[38;5;241m2\u001b[39m])\n",
      "\u001b[0;31mNameError\u001b[0m: name 'figures' is not defined"
     ]
    }
   ],
   "source": [
    "import matplotlib.pyplot as plt\n",
    "from PIL import Image\n",
    "import io\n",
    "\n",
    "# Assume `figure1`, `figure2`, and `figure3` are plt.figure objects generated by your code.\n",
    "\n",
    "# Convert figures to images\n",
    "def figure_to_image(figure):\n",
    "    buf = io.BytesIO()\n",
    "    figure.savefig(buf, format='png')\n",
    "    buf.seek(0)\n",
    "    img = Image.open(buf)\n",
    "    return img\n",
    "\n",
    "image1 = figure_to_image(figures[0])\n",
    "image2 = figure_to_image(figures[1])\n",
    "image3 = figure_to_image(figures[2])\n",
    "\n",
    "# Resize images (optional, to ensure they have the same dimensions)\n",
    "width, height = image1.size\n",
    "image2 = image2.resize((width, height))\n",
    "image3 = image3.resize((width, height))\n",
    "\n",
    "# Create a blank image with the same dimensions\n",
    "merged_image = Image.new(\"RGB\", (3*width, height))\n",
    "\n",
    "# Paste the images onto the blank image\n",
    "merged_image.paste(image1, (0, 0))\n",
    "merged_image.paste(image2, (width, 0))\n",
    "merged_image.paste(image3, (2*width, 0))\n",
    "\n",
    "# Save the merged image\n",
    "merged_image.save(\"merged_image.jpg\")\n",
    "\n",
    "# Display the merged image (optional)\n",
    "merged_image.show()\n"
   ]
  },
  {
   "cell_type": "code",
   "execution_count": null,
   "id": "c8be0fbd-08c4-4163-abae-f249d657f951",
   "metadata": {},
   "outputs": [],
   "source": []
  }
 ],
 "metadata": {
  "kernelspec": {
   "display_name": "Python 3 (ipykernel)",
   "language": "python",
   "name": "python3"
  },
  "language_info": {
   "codemirror_mode": {
    "name": "ipython",
    "version": 3
   },
   "file_extension": ".py",
   "mimetype": "text/x-python",
   "name": "python",
   "nbconvert_exporter": "python",
   "pygments_lexer": "ipython3",
   "version": "3.11.4"
  }
 },
 "nbformat": 4,
 "nbformat_minor": 5
}
